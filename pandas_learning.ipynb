{
  "nbformat": 4,
  "nbformat_minor": 0,
  "metadata": {
    "colab": {
      "provenance": [],
      "authorship_tag": "ABX9TyMVlkbsjZ6QvLlYEm68cL7j",
      "include_colab_link": true
    },
    "kernelspec": {
      "name": "python3",
      "display_name": "Python 3"
    },
    "language_info": {
      "name": "python"
    }
  },
  "cells": [
    {
      "cell_type": "markdown",
      "metadata": {
        "id": "view-in-github",
        "colab_type": "text"
      },
      "source": [
        "<a href=\"https://colab.research.google.com/github/Usori/DataScienceLearning/blob/pandas_learning/pandas_learning.ipynb\" target=\"_parent\"><img src=\"https://colab.research.google.com/assets/colab-badge.svg\" alt=\"Open In Colab\"/></a>"
      ]
    },
    {
      "cell_type": "code",
      "execution_count": null,
      "metadata": {
        "id": "TVL0AZTrJW78"
      },
      "outputs": [],
      "source": [
        "import numpy as np\n",
        "import pandas as pd"
      ]
    },
    {
      "cell_type": "markdown",
      "source": [
        "# Pandas Cookbook Hands On - First Tutorial\n",
        "\n",
        "Observação: Fiz adaptações no tutorial para incluir meu conhecimento prévio em Python e facilitar o entendimento de quais estruturas de dados estão sendo manipuladas em cada parte.\n",
        "\n",
        "https://pandas.pydata.org/docs/user_guide/cookbook.html#cookbook"
      ],
      "metadata": {
        "id": "9t_03foWJ0e3"
      }
    },
    {
      "cell_type": "markdown",
      "source": [
        "## Dicionário para DataFrame\n",
        "\n",
        "Existem três maneiras principais de se criar um dataframe, com um dicionário, com um CSV uu com uma planilha excel, abaixo iremos utilizar a criação com dicionário.\n",
        "\n",
        "*   Com **dicionário**: df = pd.DataFrame(dicionario1)\n",
        "*   Com **CSV**: df = pd.read_csv(\"nome_do_arquivo.csv\")\n",
        "*   Com **Excel**: df = pd.read_excel(\"nome_do_arquivo.xlsx\")\n",
        "\n",
        "\n",
        "\n"
      ],
      "metadata": {
        "id": "KdXcDe0rSliW"
      }
    },
    {
      "cell_type": "code",
      "source": [
        "dicionario1 = {\n",
        "      \"AAA\" : [4, 5, 6, 7]\n",
        "    , \"BBB\" : [10, 20, 30, 40]\n",
        "    , \"CCC\" : [100, 50, -30, -50]\n",
        "    , \"D D\" : [\"Hello\", \"World\", \"my\", \"Friends!\"]\n",
        "}\n",
        "\n",
        "df = pd.DataFrame(dicionario1)"
      ],
      "metadata": {
        "id": "Mb2lPf6tJhDQ"
      },
      "execution_count": null,
      "outputs": []
    },
    {
      "cell_type": "markdown",
      "source": [
        "## Rótulo da Coluna como Atributo (Usori and ChatGPT)\n",
        "\n",
        "A notação ou funcionalidade anterior é chamada de \"atributo de coluna\" (column attribute) no pandas.\n",
        "\n",
        "Quando você usa a sintaxe df.Nome, está acessando uma coluna específica do DataFrame df por meio de um atributo. O pandas permite que você acesse as colunas de um DataFrame como atributos quando o nome da coluna é [**uma string válida e não contém espaços, caracteres especiais ou colide com algum nome de atributo ou método existente no DataFrame**](https://chat.openai.com/share/007c3269-b6f8-4859-b8a0-b1813958f494).\n",
        "\n",
        "Essa funcionalidade é conveniente para acessar colunas de forma mais concisa e legível, especialmente quando os nomes das colunas são simples e não exigem aspas ou colchetes. No entanto, é importante ressaltar que nem sempre é possível utilizar essa notação, especialmente quando o nome da coluna não atende aos requisitos mencionados anteriormente. Em casos onde o nome da coluna possui espaços, caracteres especiais ou é uma palavra reservada do Python, é necessário utilizar a notação df['Nome'] para acessar a coluna desejada."
      ],
      "metadata": {
        "id": "yteaJjN8RuU9"
      }
    },
    {
      "cell_type": "code",
      "source": [
        "df"
      ],
      "metadata": {
        "colab": {
          "base_uri": "https://localhost:8080/",
          "height": 175
        },
        "id": "oiJUKir4LKof",
        "outputId": "f44514b8-6b87-4988-edd2-702c759fe0b7"
      },
      "execution_count": null,
      "outputs": [
        {
          "output_type": "execute_result",
          "data": {
            "text/plain": [
              "   AAA  BBB  CCC       D D\n",
              "0    4   10  100     Hello\n",
              "1    5   20   50     World\n",
              "2    6   30  -30        my\n",
              "3    7   40  -50  Friends!"
            ],
            "text/html": [
              "\n",
              "  <div id=\"df-5787ddee-9238-4097-adfc-915a4f4c3b70\">\n",
              "    <div class=\"colab-df-container\">\n",
              "      <div>\n",
              "<style scoped>\n",
              "    .dataframe tbody tr th:only-of-type {\n",
              "        vertical-align: middle;\n",
              "    }\n",
              "\n",
              "    .dataframe tbody tr th {\n",
              "        vertical-align: top;\n",
              "    }\n",
              "\n",
              "    .dataframe thead th {\n",
              "        text-align: right;\n",
              "    }\n",
              "</style>\n",
              "<table border=\"1\" class=\"dataframe\">\n",
              "  <thead>\n",
              "    <tr style=\"text-align: right;\">\n",
              "      <th></th>\n",
              "      <th>AAA</th>\n",
              "      <th>BBB</th>\n",
              "      <th>CCC</th>\n",
              "      <th>D D</th>\n",
              "    </tr>\n",
              "  </thead>\n",
              "  <tbody>\n",
              "    <tr>\n",
              "      <th>0</th>\n",
              "      <td>4</td>\n",
              "      <td>10</td>\n",
              "      <td>100</td>\n",
              "      <td>Hello</td>\n",
              "    </tr>\n",
              "    <tr>\n",
              "      <th>1</th>\n",
              "      <td>5</td>\n",
              "      <td>20</td>\n",
              "      <td>50</td>\n",
              "      <td>World</td>\n",
              "    </tr>\n",
              "    <tr>\n",
              "      <th>2</th>\n",
              "      <td>6</td>\n",
              "      <td>30</td>\n",
              "      <td>-30</td>\n",
              "      <td>my</td>\n",
              "    </tr>\n",
              "    <tr>\n",
              "      <th>3</th>\n",
              "      <td>7</td>\n",
              "      <td>40</td>\n",
              "      <td>-50</td>\n",
              "      <td>Friends!</td>\n",
              "    </tr>\n",
              "  </tbody>\n",
              "</table>\n",
              "</div>\n",
              "      <button class=\"colab-df-convert\" onclick=\"convertToInteractive('df-5787ddee-9238-4097-adfc-915a4f4c3b70')\"\n",
              "              title=\"Convert this dataframe to an interactive table.\"\n",
              "              style=\"display:none;\">\n",
              "        \n",
              "  <svg xmlns=\"http://www.w3.org/2000/svg\" height=\"24px\"viewBox=\"0 0 24 24\"\n",
              "       width=\"24px\">\n",
              "    <path d=\"M0 0h24v24H0V0z\" fill=\"none\"/>\n",
              "    <path d=\"M18.56 5.44l.94 2.06.94-2.06 2.06-.94-2.06-.94-.94-2.06-.94 2.06-2.06.94zm-11 1L8.5 8.5l.94-2.06 2.06-.94-2.06-.94L8.5 2.5l-.94 2.06-2.06.94zm10 10l.94 2.06.94-2.06 2.06-.94-2.06-.94-.94-2.06-.94 2.06-2.06.94z\"/><path d=\"M17.41 7.96l-1.37-1.37c-.4-.4-.92-.59-1.43-.59-.52 0-1.04.2-1.43.59L10.3 9.45l-7.72 7.72c-.78.78-.78 2.05 0 2.83L4 21.41c.39.39.9.59 1.41.59.51 0 1.02-.2 1.41-.59l7.78-7.78 2.81-2.81c.8-.78.8-2.07 0-2.86zM5.41 20L4 18.59l7.72-7.72 1.47 1.35L5.41 20z\"/>\n",
              "  </svg>\n",
              "      </button>\n",
              "      \n",
              "  <style>\n",
              "    .colab-df-container {\n",
              "      display:flex;\n",
              "      flex-wrap:wrap;\n",
              "      gap: 12px;\n",
              "    }\n",
              "\n",
              "    .colab-df-convert {\n",
              "      background-color: #E8F0FE;\n",
              "      border: none;\n",
              "      border-radius: 50%;\n",
              "      cursor: pointer;\n",
              "      display: none;\n",
              "      fill: #1967D2;\n",
              "      height: 32px;\n",
              "      padding: 0 0 0 0;\n",
              "      width: 32px;\n",
              "    }\n",
              "\n",
              "    .colab-df-convert:hover {\n",
              "      background-color: #E2EBFA;\n",
              "      box-shadow: 0px 1px 2px rgba(60, 64, 67, 0.3), 0px 1px 3px 1px rgba(60, 64, 67, 0.15);\n",
              "      fill: #174EA6;\n",
              "    }\n",
              "\n",
              "    [theme=dark] .colab-df-convert {\n",
              "      background-color: #3B4455;\n",
              "      fill: #D2E3FC;\n",
              "    }\n",
              "\n",
              "    [theme=dark] .colab-df-convert:hover {\n",
              "      background-color: #434B5C;\n",
              "      box-shadow: 0px 1px 3px 1px rgba(0, 0, 0, 0.15);\n",
              "      filter: drop-shadow(0px 1px 2px rgba(0, 0, 0, 0.3));\n",
              "      fill: #FFFFFF;\n",
              "    }\n",
              "  </style>\n",
              "\n",
              "      <script>\n",
              "        const buttonEl =\n",
              "          document.querySelector('#df-5787ddee-9238-4097-adfc-915a4f4c3b70 button.colab-df-convert');\n",
              "        buttonEl.style.display =\n",
              "          google.colab.kernel.accessAllowed ? 'block' : 'none';\n",
              "\n",
              "        async function convertToInteractive(key) {\n",
              "          const element = document.querySelector('#df-5787ddee-9238-4097-adfc-915a4f4c3b70');\n",
              "          const dataTable =\n",
              "            await google.colab.kernel.invokeFunction('convertToInteractive',\n",
              "                                                     [key], {});\n",
              "          if (!dataTable) return;\n",
              "\n",
              "          const docLinkHtml = 'Like what you see? Visit the ' +\n",
              "            '<a target=\"_blank\" href=https://colab.research.google.com/notebooks/data_table.ipynb>data table notebook</a>'\n",
              "            + ' to learn more about interactive tables.';\n",
              "          element.innerHTML = '';\n",
              "          dataTable['output_type'] = 'display_data';\n",
              "          await google.colab.output.renderOutput(dataTable, element);\n",
              "          const docLink = document.createElement('div');\n",
              "          docLink.innerHTML = docLinkHtml;\n",
              "          element.appendChild(docLink);\n",
              "        }\n",
              "      </script>\n",
              "    </div>\n",
              "  </div>\n",
              "  "
            ]
          },
          "metadata": {},
          "execution_count": 3
        }
      ]
    },
    {
      "cell_type": "code",
      "source": [
        "df.AAA # Permite acessar uma coluna do pandas pelo seu nome se ela não"
      ],
      "metadata": {
        "colab": {
          "base_uri": "https://localhost:8080/"
        },
        "id": "BJcj4mrvLNIl",
        "outputId": "11198477-44ad-48ec-f7e8-3aa180f1140c"
      },
      "execution_count": null,
      "outputs": [
        {
          "output_type": "execute_result",
          "data": {
            "text/plain": [
              "0    4\n",
              "1    5\n",
              "2    6\n",
              "3    7\n",
              "Name: AAA, dtype: int64"
            ]
          },
          "metadata": {},
          "execution_count": 4
        }
      ]
    },
    {
      "cell_type": "code",
      "source": [
        "type(df.AAA) # DF.AAA é um pandas.core.series.Series, series.Series, é como as colunas do pandas são vistas"
      ],
      "metadata": {
        "colab": {
          "base_uri": "https://localhost:8080/"
        },
        "id": "N4muG7eiLTIj",
        "outputId": "7087ad02-2f89-409e-dfd0-b705e417da1c"
      },
      "execution_count": null,
      "outputs": [
        {
          "output_type": "execute_result",
          "data": {
            "text/plain": [
              "pandas.core.series.Series"
            ]
          },
          "metadata": {},
          "execution_count": 5
        }
      ]
    },
    {
      "cell_type": "markdown",
      "source": [
        "### Note que não é possível faze \"df.D D\", pois este não é um nome válido de rótulo como atributo, conforme mencionado anteriormente."
      ],
      "metadata": {
        "id": "BYH8w4jtTsM_"
      }
    },
    {
      "cell_type": "code",
      "source": [
        "df.CCC"
      ],
      "metadata": {
        "colab": {
          "base_uri": "https://localhost:8080/"
        },
        "id": "hSlXvQOQLbos",
        "outputId": "3b7a006d-db3f-4f10-b268-d29aadabc64d"
      },
      "execution_count": null,
      "outputs": [
        {
          "output_type": "execute_result",
          "data": {
            "text/plain": [
              "0    100\n",
              "1     50\n",
              "2    -30\n",
              "3    -50\n",
              "Name: CCC, dtype: int64"
            ]
          },
          "metadata": {},
          "execution_count": 6
        }
      ]
    },
    {
      "cell_type": "markdown",
      "source": [
        "## Series (Data Structure)\n",
        "\n",
        "Series is a one-dimensional labeled array capable of holding any data type (integers, strings, floating point numbers, Python objects, etc.). The axis labels are collectively referred to as the index.\n",
        "\n",
        "Here, data can be many different things:\n",
        "*   Python dict\n",
        "*   ndarray\n",
        "*   scalar value (like 5)\n",
        "\n",
        "https://pandas.pydata.org/docs/user_guide/dsintro.html"
      ],
      "metadata": {
        "id": "CZOdHVS6aaOr"
      }
    },
    {
      "cell_type": "code",
      "source": [
        "s = pd.Series(np.random.randn(5), index=[\"a\", \"b\", \"c\", \"d\", \"e\"])\n",
        "s"
      ],
      "metadata": {
        "colab": {
          "base_uri": "https://localhost:8080/"
        },
        "id": "9LmC54SyaZmJ",
        "outputId": "20da89de-27d4-4f2f-b82d-ccfcb0b379e9"
      },
      "execution_count": null,
      "outputs": [
        {
          "output_type": "execute_result",
          "data": {
            "text/plain": [
              "a   -1.701375\n",
              "b    1.273355\n",
              "c   -1.796010\n",
              "d   -0.371055\n",
              "e    0.210388\n",
              "dtype: float64"
            ]
          },
          "metadata": {},
          "execution_count": 7
        }
      ]
    },
    {
      "cell_type": "code",
      "source": [
        "s.index"
      ],
      "metadata": {
        "colab": {
          "base_uri": "https://localhost:8080/"
        },
        "id": "I_eaqG-2cFjQ",
        "outputId": "bafe506e-9a53-4e62-9deb-f8f48a7170d0"
      },
      "execution_count": null,
      "outputs": [
        {
          "output_type": "execute_result",
          "data": {
            "text/plain": [
              "Index(['a', 'b', 'c', 'd', 'e'], dtype='object')"
            ]
          },
          "metadata": {},
          "execution_count": 8
        }
      ]
    },
    {
      "cell_type": "code",
      "source": [
        "pd.Series(np.random.randn(5))"
      ],
      "metadata": {
        "colab": {
          "base_uri": "https://localhost:8080/"
        },
        "id": "OIiesqs1cRsX",
        "outputId": "f4d4c9f4-933d-4982-ede6-f3ccd74fba80"
      },
      "execution_count": null,
      "outputs": [
        {
          "output_type": "execute_result",
          "data": {
            "text/plain": [
              "0    2.073692\n",
              "1    1.502501\n",
              "2    0.685412\n",
              "3    0.197825\n",
              "4   -0.501989\n",
              "dtype: float64"
            ]
          },
          "metadata": {},
          "execution_count": 9
        }
      ]
    },
    {
      "cell_type": "code",
      "source": [
        "s.a #coluna \"a\" da Series \"s\""
      ],
      "metadata": {
        "colab": {
          "base_uri": "https://localhost:8080/"
        },
        "id": "CAk5xj_ycnyl",
        "outputId": "292c25a7-085b-4843-9bf7-f00ce9444015"
      },
      "execution_count": null,
      "outputs": [
        {
          "output_type": "execute_result",
          "data": {
            "text/plain": [
              "-1.7013745705333947"
            ]
          },
          "metadata": {},
          "execution_count": 10
        }
      ]
    },
    {
      "cell_type": "code",
      "source": [
        "d = {\"a\" : 1, \"b\" : 0, \"c\" : 2}"
      ],
      "metadata": {
        "id": "_oZynxpIcvBY"
      },
      "execution_count": null,
      "outputs": []
    },
    {
      "cell_type": "code",
      "source": [
        "pd.Series(d)"
      ],
      "metadata": {
        "id": "yr79THB-dDeL",
        "outputId": "42446260-69ab-4205-a094-8e60bc0fd65c",
        "colab": {
          "base_uri": "https://localhost:8080/"
        }
      },
      "execution_count": null,
      "outputs": [
        {
          "output_type": "execute_result",
          "data": {
            "text/plain": [
              "a    1\n",
              "b    0\n",
              "c    2\n",
              "dtype: int64"
            ]
          },
          "metadata": {},
          "execution_count": 13
        }
      ]
    }
  ]
}