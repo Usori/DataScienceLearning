{
  "nbformat": 4,
  "nbformat_minor": 0,
  "metadata": {
    "colab": {
      "provenance": [],
      "authorship_tag": "ABX9TyNiD2bjzBmtKUhxSeGb98kx",
      "include_colab_link": true
    },
    "kernelspec": {
      "name": "python3",
      "display_name": "Python 3"
    },
    "language_info": {
      "name": "python"
    }
  },
  "cells": [
    {
      "cell_type": "markdown",
      "metadata": {
        "id": "view-in-github",
        "colab_type": "text"
      },
      "source": [
        "<a href=\"https://colab.research.google.com/github/Usori/DataScienceLearning/blob/aws_diagram_as_code/aws_diagram_as_code.ipynb\" target=\"_parent\"><img src=\"https://colab.research.google.com/assets/colab-badge.svg\" alt=\"Open In Colab\"/></a>"
      ]
    },
    {
      "cell_type": "code",
      "source": [
        "!pip install diagrams"
      ],
      "metadata": {
        "colab": {
          "base_uri": "https://localhost:8080/"
        },
        "id": "9pqo9KMukSoF",
        "outputId": "cc1669ac-9759-4508-e4a2-d1adf686b043"
      },
      "execution_count": 2,
      "outputs": [
        {
          "output_type": "stream",
          "name": "stdout",
          "text": [
            "Collecting diagrams\n",
            "  Downloading diagrams-0.23.3-py3-none-any.whl (24.4 MB)\n",
            "\u001b[2K     \u001b[90m━━━━━━━━━━━━━━━━━━━━━━━━━━━━━━━━━━━━━━━━\u001b[0m \u001b[32m24.4/24.4 MB\u001b[0m \u001b[31m35.6 MB/s\u001b[0m eta \u001b[36m0:00:00\u001b[0m\n",
            "\u001b[?25hRequirement already satisfied: graphviz<0.21.0,>=0.13.2 in /usr/local/lib/python3.10/dist-packages (from diagrams) (0.20.1)\n",
            "Requirement already satisfied: jinja2<4.0,>=2.10 in /usr/local/lib/python3.10/dist-packages (from diagrams) (3.1.2)\n",
            "Collecting typed-ast<2.0.0,>=1.5.4 (from diagrams)\n",
            "  Downloading typed_ast-1.5.5-cp310-cp310-manylinux_2_17_x86_64.manylinux2014_x86_64.whl (824 kB)\n",
            "\u001b[2K     \u001b[90m━━━━━━━━━━━━━━━━━━━━━━━━━━━━━━━━━━━━━━\u001b[0m \u001b[32m824.7/824.7 kB\u001b[0m \u001b[31m43.2 MB/s\u001b[0m eta \u001b[36m0:00:00\u001b[0m\n",
            "\u001b[?25hRequirement already satisfied: MarkupSafe>=2.0 in /usr/local/lib/python3.10/dist-packages (from jinja2<4.0,>=2.10->diagrams) (2.1.3)\n",
            "Installing collected packages: typed-ast, diagrams\n",
            "Successfully installed diagrams-0.23.3 typed-ast-1.5.5\n"
          ]
        }
      ]
    },
    {
      "cell_type": "code",
      "execution_count": 1,
      "metadata": {
        "id": "DTEbi-tJkE58"
      },
      "outputs": [],
      "source": [
        "from diagrams import Cluster, Diagram\n",
        "from diagrams.aws.compute import ECS\n",
        "from diagrams.aws.database import RDS, ElastiCache\n",
        "from diagrams.aws.network import ELB, Route53"
      ]
    },
    {
      "cell_type": "code",
      "source": [
        "with Diagram(\"Usori Cluster\", show=False):\n",
        "  dns = Route53('dns')\n",
        "  lb = ELB('lb')\n",
        "\n",
        "  with Cluster('Services'):\n",
        "    service_group = [\n",
        "          ECS('Web1'),\n",
        "          ECS('Web2'),\n",
        "          ECS('Web3')\n",
        "        ]\n",
        "\n",
        "  with Cluster('DB Cluster'):\n",
        "    db_primary = RDS('userdb')\n",
        "    db_primary - RDS('userdb ro')\n",
        "\n",
        "  memcached = ElastiCache('memcached')\n",
        "\n",
        "  dns >> lb >> service_group\n",
        "  service_group >> db_primary\n",
        "  service_group >> memcached"
      ],
      "metadata": {
        "id": "zZNrRjjEk09l"
      },
      "execution_count": 6,
      "outputs": []
    },
    {
      "cell_type": "code",
      "source": [],
      "metadata": {
        "id": "zAn6Pf_5n5i0"
      },
      "execution_count": 6,
      "outputs": []
    }
  ]
}